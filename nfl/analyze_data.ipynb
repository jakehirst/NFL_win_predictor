{
 "cells": [
  {
   "cell_type": "code",
   "execution_count": 1,
   "metadata": {},
   "outputs": [
    {
     "name": "stdout",
     "output_type": "stream",
     "text": [
      "hi\n"
     ]
    }
   ],
   "source": [
    "from DataScraper import *\n",
    "\n",
    "stats_filepath = \"/Users/jakehirst/Desktop/sportsbetting/nfl/Stats_from_2002_thru_2020.json\"\n",
    "# turn_json_into_dataframe(\"/Users/jakehirst/Desktop/sportsbetting/nfl/Stats_from_2002_thru_2020.json\")\n",
    "current_stats = load_stats(stats_filepath)\n",
    "\n",
    "print('hi')\n",
    "\n",
    "\n",
    "\n"
   ]
  }
 ],
 "metadata": {
  "kernelspec": {
   "display_name": "sportsbetting_venv",
   "language": "python",
   "name": "python3"
  },
  "language_info": {
   "codemirror_mode": {
    "name": "ipython",
    "version": 3
   },
   "file_extension": ".py",
   "mimetype": "text/x-python",
   "name": "python",
   "nbconvert_exporter": "python",
   "pygments_lexer": "ipython3",
   "version": "3.9.13"
  }
 },
 "nbformat": 4,
 "nbformat_minor": 2
}
